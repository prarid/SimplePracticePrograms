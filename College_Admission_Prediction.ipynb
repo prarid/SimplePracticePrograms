{
 "cells": [
  {
   "cell_type": "markdown",
   "id": "69df0fbb",
   "metadata": {},
   "source": [
    "<b>Data:</b> Admission_Predict.csv: List of students who have applied for admission to our university along with various relevant details such as their GPA, entrance exam scores, etc.\n",
    "\n",
    "<b>Problem Statment:</b> Our goal it to determine if the student will be admitted to university based on certain admission criteria. For instance, if universities only admit students that meet atleast one of the below conditions, is the student likely to be admitted to the university?\n",
    "* the student's GRE score is in the 95th percentile or above\n",
    "* cummulative GPA > 9.5\n",
    "* cummulative GPA > 8.5 & GRE scores atleast in the 85th percentile and atleast some research experience\n",
    "\n",
    "<b>Focus:</b> numpy advanced functionality, e.g., numpy based conditional updates (np.where, np.select), identifying percentiles, etc."
   ]
  },
  {
   "cell_type": "code",
   "execution_count": 26,
   "id": "d29f891f",
   "metadata": {},
   "outputs": [],
   "source": [
    "def integrate_summary_stats(Admission_Predict):\n",
    "    import pandas as pd\n",
    "    import numpy as np\n",
    "    \n",
    "\n",
    "    df = pd.read_csv(Admission_Predict, usecols = [\"GRE Score\", \"CGPA\", \"Research\"])\n",
    "\n",
    "    gre_95 = np.percentile(df[\"GRE Score\"], 95)\n",
    "    gre_85 = np.percentile(df[\"GRE Score\"], 90)\n",
    "\n",
    "    condition_list = [df[\"GRE Score\"] > gre_95, df[\"CGPA\"] > 9.5, np.logical_and(df[\"GRE Score\"] > gre_85, \n",
    "                                                                                 df[\"CGPA\"] > 8.5,\n",
    "                                                                                 df[\"Research\"]>=1)]\n",
    "    choice_list = [\"Y\",\"Y\",\"Y\"]\n",
    "    \n",
    "    df[\"Admit\"] = np.select(condition_list, choice_list, \"N\")\n",
    "    return df\n",
    "    \n",
    "#     for col in df.columns:\n",
    "#         df[col + \"_Diff\"] = df[col] - np.mean(df[col])\n",
    "    \n",
    "#     stats = pd.Series(mean_std)"
   ]
  },
  {
   "cell_type": "code",
   "execution_count": 1,
   "id": "b564990c",
   "metadata": {},
   "outputs": [
    {
     "ename": "NameError",
     "evalue": "name 'integrate_summary_stats' is not defined",
     "output_type": "error",
     "traceback": [
      "\u001b[1;31m---------------------------------------------------------------------------\u001b[0m",
      "\u001b[1;31mNameError\u001b[0m                                 Traceback (most recent call last)",
      "\u001b[1;32m<ipython-input-1-b6d9870e6bae>\u001b[0m in \u001b[0;36m<module>\u001b[1;34m\u001b[0m\n\u001b[0;32m      1\u001b[0m \u001b[0mpath\u001b[0m \u001b[1;33m=\u001b[0m \u001b[1;34m\"<provide file path here>\"\u001b[0m\u001b[1;33m\u001b[0m\u001b[1;33m\u001b[0m\u001b[0m\n\u001b[0;32m      2\u001b[0m \u001b[0mfile_name\u001b[0m \u001b[1;33m=\u001b[0m \u001b[1;34m\"Admission_Predict.csv\"\u001b[0m\u001b[1;33m\u001b[0m\u001b[1;33m\u001b[0m\u001b[0m\n\u001b[1;32m----> 3\u001b[1;33m \u001b[0mdf\u001b[0m \u001b[1;33m=\u001b[0m \u001b[0mintegrate_summary_stats\u001b[0m\u001b[1;33m(\u001b[0m\u001b[0mpath\u001b[0m \u001b[1;33m+\u001b[0m \u001b[0mfile_name\u001b[0m\u001b[1;33m)\u001b[0m\u001b[1;33m\u001b[0m\u001b[1;33m\u001b[0m\u001b[0m\n\u001b[0m\u001b[0;32m      4\u001b[0m \u001b[0mdf\u001b[0m\u001b[1;33m\u001b[0m\u001b[1;33m\u001b[0m\u001b[0m\n",
      "\u001b[1;31mNameError\u001b[0m: name 'integrate_summary_stats' is not defined"
     ]
    }
   ],
   "source": [
    "path = \"<provide file path here>\"\n",
    "file_name = \"Admission_Predict.csv\"\n",
    "df = integrate_summary_stats(path + file_name)\n",
    "df"
   ]
  }
 ],
 "metadata": {
  "kernelspec": {
   "display_name": "Python 3",
   "language": "python",
   "name": "python3"
  },
  "language_info": {
   "codemirror_mode": {
    "name": "ipython",
    "version": 3
   },
   "file_extension": ".py",
   "mimetype": "text/x-python",
   "name": "python",
   "nbconvert_exporter": "python",
   "pygments_lexer": "ipython3",
   "version": "3.8.8"
  }
 },
 "nbformat": 4,
 "nbformat_minor": 5
}
